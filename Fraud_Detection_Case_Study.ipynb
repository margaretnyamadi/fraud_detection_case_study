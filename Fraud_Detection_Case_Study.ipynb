{
  "nbformat": 4,
  "nbformat_minor": 0,
  "metadata": {
    "colab": {
      "name": "Fraud Detection Case Study.ipynb",
      "provenance": [],
      "collapsed_sections": [],
      "authorship_tag": "ABX9TyPtz33SL4YLba594cTsie5r",
      "include_colab_link": true
    },
    "kernelspec": {
      "name": "python3",
      "display_name": "Python 3"
    },
    "accelerator": "GPU"
  },
  "cells": [
    {
      "cell_type": "markdown",
      "metadata": {
        "id": "view-in-github",
        "colab_type": "text"
      },
      "source": [
        "<a href=\"https://colab.research.google.com/github/margaretnyamadi/fraud_detection_case_study/blob/main/Fraud_Detection_Case_Study.ipynb\" target=\"_parent\"><img src=\"https://colab.research.google.com/assets/colab-badge.svg\" alt=\"Open In Colab\"/></a>"
      ]
    },
    {
      "cell_type": "code",
      "metadata": {
        "id": "KGMkt-e5nvj_",
        "colab": {
          "base_uri": "https://localhost:8080/"
        },
        "outputId": "2992a93a-31d4-451c-a7e0-84229fad4cb0"
      },
      "source": [
        "from google.colab import drive\r\n",
        "drive.mount('/content/gdrive')"
      ],
      "execution_count": 25,
      "outputs": [
        {
          "output_type": "stream",
          "text": [
            "Drive already mounted at /content/gdrive; to attempt to forcibly remount, call drive.mount(\"/content/gdrive\", force_remount=True).\n"
          ],
          "name": "stdout"
        }
      ]
    },
    {
      "cell_type": "code",
      "metadata": {
        "id": "Zibqnw6vpMR3"
      },
      "source": [
        "import os\r\n",
        "os.environ['KAGGLE_CONFIG_DIR'] = \"/content/gdrive/My Drive/Colab Notebooks/Kaggle\"\r\n",
        "# /content/gdrive/My Drive/Kaggle is the path where kaggle.json is present in the Google Drive"
      ],
      "execution_count": 26,
      "outputs": []
    },
    {
      "cell_type": "code",
      "metadata": {
        "colab": {
          "base_uri": "https://localhost:8080/"
        },
        "id": "-dromPFIpkxe",
        "outputId": "b7b6a13b-0475-4fb1-d9ee-27e1a15b9cf4"
      },
      "source": [
        "%cd /content/gdrive/My Drive/Colab Notebooks/Kaggle\r\n",
        "#changing the working directory"
      ],
      "execution_count": 27,
      "outputs": [
        {
          "output_type": "stream",
          "text": [
            "/content/gdrive/My Drive/Colab Notebooks/Kaggle\n"
          ],
          "name": "stdout"
        }
      ]
    },
    {
      "cell_type": "code",
      "metadata": {
        "colab": {
          "base_uri": "https://localhost:8080/"
        },
        "id": "6LBsJ6gpqA6y",
        "outputId": "3bb97ae9-0b54-42a2-ec59-0ed9407ad16a"
      },
      "source": [
        "!kaggle datasets download -d ntnu-testimon/paysim1"
      ],
      "execution_count": null,
      "outputs": [
        {
          "output_type": "stream",
          "text": [
            "Downloading paysim1.zip to /content/gdrive/My Drive/Colab Notebooks/Kaggle\n",
            " 96% 171M/178M [00:01<00:00, 110MB/s]\n",
            "100% 178M/178M [00:01<00:00, 103MB/s]\n"
          ],
          "name": "stdout"
        }
      ]
    },
    {
      "cell_type": "code",
      "metadata": {
        "colab": {
          "base_uri": "https://localhost:8080/"
        },
        "id": "hq7bMp-8qiVD",
        "outputId": "b3a08bdd-af76-435a-c099-29f6ec87d14e"
      },
      "source": [
        "!ls"
      ],
      "execution_count": 28,
      "outputs": [
        {
          "output_type": "stream",
          "text": [
            "kaggle.json  PS_20174392719_1491204439457_log.csv\n"
          ],
          "name": "stdout"
        }
      ]
    },
    {
      "cell_type": "code",
      "metadata": {
        "id": "8fbBKoFUqqqM"
      },
      "source": [
        "#unzipping the zip files and deleting the zip files\r\n",
        "!unzip \\*.zip  && rm *.zip"
      ],
      "execution_count": null,
      "outputs": []
    },
    {
      "cell_type": "code",
      "metadata": {
        "colab": {
          "base_uri": "https://localhost:8080/"
        },
        "id": "MsspkAEkrPBz",
        "outputId": "27489254-1d65-402d-a581-4fb85b48ba83"
      },
      "source": [
        "# open csv and read in data\r\n",
        "import pandas as pd\r\n",
        "\r\n",
        "df = pd.read_csv('PS_20174392719_1491204439457_log.csv')\r\n",
        "df.info()"
      ],
      "execution_count": 29,
      "outputs": [
        {
          "output_type": "stream",
          "text": [
            "<class 'pandas.core.frame.DataFrame'>\n",
            "RangeIndex: 6362620 entries, 0 to 6362619\n",
            "Data columns (total 11 columns):\n",
            " #   Column          Dtype  \n",
            "---  ------          -----  \n",
            " 0   step            int64  \n",
            " 1   type            object \n",
            " 2   amount          float64\n",
            " 3   nameOrig        object \n",
            " 4   oldbalanceOrg   float64\n",
            " 5   newbalanceOrig  float64\n",
            " 6   nameDest        object \n",
            " 7   oldbalanceDest  float64\n",
            " 8   newbalanceDest  float64\n",
            " 9   isFraud         int64  \n",
            " 10  isFlaggedFraud  int64  \n",
            "dtypes: float64(5), int64(3), object(3)\n",
            "memory usage: 534.0+ MB\n"
          ],
          "name": "stdout"
        }
      ]
    },
    {
      "cell_type": "code",
      "metadata": {
        "colab": {
          "base_uri": "https://localhost:8080/"
        },
        "id": "60yonMgSyooD",
        "outputId": "1a4c4219-05d4-4931-9929-703fa5fb9e0e"
      },
      "source": [
        "pd.set_option('display.max_columns', None)\r\n",
        "print(df.head(n=10))\r\n",
        "# payment type vs fraud"
      ],
      "execution_count": 30,
      "outputs": [
        {
          "output_type": "stream",
          "text": [
            "   step      type    amount     nameOrig  oldbalanceOrg  newbalanceOrig  \\\n",
            "0     1   PAYMENT   9839.64  C1231006815      170136.00       160296.36   \n",
            "1     1   PAYMENT   1864.28  C1666544295       21249.00        19384.72   \n",
            "2     1  TRANSFER    181.00  C1305486145         181.00            0.00   \n",
            "3     1  CASH_OUT    181.00   C840083671         181.00            0.00   \n",
            "4     1   PAYMENT  11668.14  C2048537720       41554.00        29885.86   \n",
            "5     1   PAYMENT   7817.71    C90045638       53860.00        46042.29   \n",
            "6     1   PAYMENT   7107.77   C154988899      183195.00       176087.23   \n",
            "7     1   PAYMENT   7861.64  C1912850431      176087.23       168225.59   \n",
            "8     1   PAYMENT   4024.36  C1265012928        2671.00            0.00   \n",
            "9     1     DEBIT   5337.77   C712410124       41720.00        36382.23   \n",
            "\n",
            "      nameDest  oldbalanceDest  newbalanceDest  isFraud  isFlaggedFraud  \n",
            "0  M1979787155             0.0            0.00        0               0  \n",
            "1  M2044282225             0.0            0.00        0               0  \n",
            "2   C553264065             0.0            0.00        1               0  \n",
            "3    C38997010         21182.0            0.00        1               0  \n",
            "4  M1230701703             0.0            0.00        0               0  \n",
            "5   M573487274             0.0            0.00        0               0  \n",
            "6   M408069119             0.0            0.00        0               0  \n",
            "7   M633326333             0.0            0.00        0               0  \n",
            "8  M1176932104             0.0            0.00        0               0  \n",
            "9   C195600860         41898.0        40348.79        0               0  \n"
          ],
          "name": "stdout"
        }
      ]
    },
    {
      "cell_type": "markdown",
      "metadata": {
        "id": "bVFZQ4TX2EL8"
      },
      "source": [
        "Visualization"
      ]
    },
    {
      "cell_type": "code",
      "metadata": {
        "id": "jGT2ymX90Rrt"
      },
      "source": [
        "import matplotlib.pyplot as plt\r\n",
        "import seaborn as sns\r\n",
        "sns.set_theme(style=\"darkgrid\")"
      ],
      "execution_count": 31,
      "outputs": []
    },
    {
      "cell_type": "code",
      "metadata": {
        "colab": {
          "base_uri": "https://localhost:8080/",
          "height": 319
        },
        "id": "4pk9fKRiNlGN",
        "outputId": "535598a0-24f0-4f03-a3c7-b701bf614a03"
      },
      "source": [
        "# frequency of payment types\r\n",
        "sns.set_theme(style=\"darkgrid\")\r\n",
        "ax = sns.countplot(x=\"type\", data=df)\r\n",
        "ax.set_title('Freuency of Payment Types')\r\n",
        "ax.set_xlabel('Payment Type')"
      ],
      "execution_count": null,
      "outputs": [
        {
          "output_type": "execute_result",
          "data": {
            "text/plain": [
              "Text(0.5, 0, 'Payment Type')"
            ]
          },
          "metadata": {
            "tags": []
          },
          "execution_count": 8
        },
        {
          "output_type": "display_data",
          "data": {
            "image/png": "[encoded data removed]",
            "text/plain": [
              "<Figure size 432x288 with 1 Axes>"
            ]
          },
          "metadata": {
            "tags": []
          }
        }
      ]
    },
    {
      "cell_type": "code",
      "metadata": {
        "id": "CMDlvogfsRCF",
        "colab": {
          "base_uri": "https://localhost:8080/",
          "height": 319
        },
        "outputId": "6b04d1d1-c4ea-40ff-97bb-cb8e227165d1"
      },
      "source": [
        "# step vs amount\r\n",
        "ax = sns.scatterplot(data=df, x=\"step\", y=\"amount\")\r\n",
        "ax.set_title('Time vs Amount')\r\n",
        "ax.set_xlabel('time step (hr)')\r\n",
        "ax.set_ylabel('amount')"
      ],
      "execution_count": null,
      "outputs": [
        {
          "output_type": "execute_result",
          "data": {
            "text/plain": [
              "Text(0, 0.5, 'amount')"
            ]
          },
          "metadata": {
            "tags": []
          },
          "execution_count": 12
        },
        {
          "output_type": "display_data",
          "data": {
            "image/png": "[encoded data removed]",
            "text/plain": [
              "<Figure size 432x288 with 1 Axes>"
            ]
          },
          "metadata": {
            "tags": []
          }
        }
      ]
    },
    {
      "cell_type": "code",
      "metadata": {
        "colab": {
          "base_uri": "https://localhost:8080/",
          "height": 319
        },
        "id": "2MQvZk8cNABn",
        "outputId": "4750996f-c09f-468d-bb98-0cdf5e6c0269"
      },
      "source": [
        "# isFraud vs type\r\n",
        "ax = sns.countplot(x=\"isFraud\", hue=\"type\", data=df, palette=\"Set3\");\r\n",
        "ax.set_title('Type of Payment vs Transaction')\r\n",
        "ax.set_xlabel('isFraud')"
      ],
      "execution_count": null,
      "outputs": [
        {
          "output_type": "execute_result",
          "data": {
            "text/plain": [
              "Text(0.5, 0, 'isFraud')"
            ]
          },
          "metadata": {
            "tags": []
          },
          "execution_count": 21
        },
        {
          "output_type": "display_data",
          "data": {
            "image/png": "[encoded data removed]",
            "text/plain": [
              "<Figure size 432x288 with 1 Axes>"
            ]
          },
          "metadata": {
            "tags": []
          }
        }
      ]
    },
    {
      "cell_type": "code",
      "metadata": {
        "colab": {
          "base_uri": "https://localhost:8080/",
          "height": 319
        },
        "id": "-30qIXtltZxj",
        "outputId": "84a3552c-d5d6-4935-e0e3-18e5204a6027"
      },
      "source": [
        "# isFlaggedFraud vs type\r\n",
        "ax = sns.countplot(x=\"isFlaggedFraud\", hue=\"type\", data=df, palette=\"Set2\");\r\n",
        "ax.set_title('Type of Payment vs Transaction')\r\n",
        "ax.set_xlabel('isFlaggedFraud')\r\n",
        "plt.legend(loc='upper right')"
      ],
      "execution_count": null,
      "outputs": [
        {
          "output_type": "execute_result",
          "data": {
            "text/plain": [
              "<matplotlib.legend.Legend at 0x7ff927918898>"
            ]
          },
          "metadata": {
            "tags": []
          },
          "execution_count": 33
        },
        {
          "output_type": "display_data",
          "data": {
            "image/png": "[encoded data removed]",
            "text/plain": [
              "<Figure size 432x288 with 1 Axes>"
            ]
          },
          "metadata": {
            "tags": []
          }
        }
      ]
    },
    {
      "cell_type": "code",
      "metadata": {
        "colab": {
          "base_uri": "https://localhost:8080/",
          "height": 296
        },
        "id": "rPImIUPg0k_E",
        "outputId": "d045c6ae-e3e3-476f-dd9e-6c5415262e88"
      },
      "source": [
        "ax = sns.scatterplot(data=df, x=\"step\", y=\"amount\", hue=\"isFraud\", style=\"isFlaggedFraud\")"
      ],
      "execution_count": 13,
      "outputs": [
        {
          "output_type": "display_data",
          "data": {
            "image/png": "[encoded data removed]",
            "text/plain": [
              "<Figure size 432x288 with 1 Axes>"
            ]
          },
          "metadata": {
            "tags": []
          }
        }
      ]
    },
    {
      "cell_type": "markdown",
      "metadata": {
        "id": "BWGbv23b0_J4"
      },
      "source": [
        "Data Cleansing"
      ]
    },
    {
      "cell_type": "code",
      "metadata": {
        "colab": {
          "base_uri": "https://localhost:8080/",
          "height": 415
        },
        "id": "XLRBG0Qr2YQL",
        "outputId": "e158a319-a167-4fb0-b0c0-111bcbc45583"
      },
      "source": [
        "#check for null values\r\n",
        "df.isnull()"
      ],
      "execution_count": 14,
      "outputs": [
        {
          "output_type": "execute_result",
          "data": {
            "text/html": [
              "<div>\n",
              "<style scoped>\n",
              "    .dataframe tbody tr th:only-of-type {\n",
              "        vertical-align: middle;\n",
              "    }\n",
              "\n",
              "    .dataframe tbody tr th {\n",
              "        vertical-align: top;\n",
              "    }\n",
              "\n",
              "    .dataframe thead th {\n",
              "        text-align: right;\n",
              "    }\n",
              "</style>\n",
              "<table border=\"1\" class=\"dataframe\">\n",
              "  <thead>\n",
              "    <tr style=\"text-align: right;\">\n",
              "      <th></th>\n",
              "      <th>step</th>\n",
              "      <th>type</th>\n",
              "      <th>amount</th>\n",
              "      <th>nameOrig</th>\n",
              "      <th>oldbalanceOrg</th>\n",
              "      <th>newbalanceOrig</th>\n",
              "      <th>nameDest</th>\n",
              "      <th>oldbalanceDest</th>\n",
              "      <th>newbalanceDest</th>\n",
              "      <th>isFraud</th>\n",
              "      <th>isFlaggedFraud</th>\n",
              "    </tr>\n",
              "  </thead>\n",
              "  <tbody>\n",
              "    <tr>\n",
              "      <th>0</th>\n",
              "      <td>False</td>\n",
              "      <td>False</td>\n",
              "      <td>False</td>\n",
              "      <td>False</td>\n",
              "      <td>False</td>\n",
              "      <td>False</td>\n",
              "      <td>False</td>\n",
              "      <td>False</td>\n",
              "      <td>False</td>\n",
              "      <td>False</td>\n",
              "      <td>False</td>\n",
              "    </tr>\n",
              "    <tr>\n",
              "      <th>1</th>\n",
              "      <td>False</td>\n",
              "      <td>False</td>\n",
              "      <td>False</td>\n",
              "      <td>False</td>\n",
              "      <td>False</td>\n",
              "      <td>False</td>\n",
              "      <td>False</td>\n",
              "      <td>False</td>\n",
              "      <td>False</td>\n",
              "      <td>False</td>\n",
              "      <td>False</td>\n",
              "    </tr>\n",
              "    <tr>\n",
              "      <th>2</th>\n",
              "      <td>False</td>\n",
              "      <td>False</td>\n",
              "      <td>False</td>\n",
              "      <td>False</td>\n",
              "      <td>False</td>\n",
              "      <td>False</td>\n",
              "      <td>False</td>\n",
              "      <td>False</td>\n",
              "      <td>False</td>\n",
              "      <td>False</td>\n",
              "      <td>False</td>\n",
              "    </tr>\n",
              "    <tr>\n",
              "      <th>3</th>\n",
              "      <td>False</td>\n",
              "      <td>False</td>\n",
              "      <td>False</td>\n",
              "      <td>False</td>\n",
              "      <td>False</td>\n",
              "      <td>False</td>\n",
              "      <td>False</td>\n",
              "      <td>False</td>\n",
              "      <td>False</td>\n",
              "      <td>False</td>\n",
              "      <td>False</td>\n",
              "    </tr>\n",
              "    <tr>\n",
              "      <th>4</th>\n",
              "      <td>False</td>\n",
              "      <td>False</td>\n",
              "      <td>False</td>\n",
              "      <td>False</td>\n",
              "      <td>False</td>\n",
              "      <td>False</td>\n",
              "      <td>False</td>\n",
              "      <td>False</td>\n",
              "      <td>False</td>\n",
              "      <td>False</td>\n",
              "      <td>False</td>\n",
              "    </tr>\n",
              "    <tr>\n",
              "      <th>...</th>\n",
              "      <td>...</td>\n",
              "      <td>...</td>\n",
              "      <td>...</td>\n",
              "      <td>...</td>\n",
              "      <td>...</td>\n",
              "      <td>...</td>\n",
              "      <td>...</td>\n",
              "      <td>...</td>\n",
              "      <td>...</td>\n",
              "      <td>...</td>\n",
              "      <td>...</td>\n",
              "    </tr>\n",
              "    <tr>\n",
              "      <th>6362615</th>\n",
              "      <td>False</td>\n",
              "      <td>False</td>\n",
              "      <td>False</td>\n",
              "      <td>False</td>\n",
              "      <td>False</td>\n",
              "      <td>False</td>\n",
              "      <td>False</td>\n",
              "      <td>False</td>\n",
              "      <td>False</td>\n",
              "      <td>False</td>\n",
              "      <td>False</td>\n",
              "    </tr>\n",
              "    <tr>\n",
              "      <th>6362616</th>\n",
              "      <td>False</td>\n",
              "      <td>False</td>\n",
              "      <td>False</td>\n",
              "      <td>False</td>\n",
              "      <td>False</td>\n",
              "      <td>False</td>\n",
              "      <td>False</td>\n",
              "      <td>False</td>\n",
              "      <td>False</td>\n",
              "      <td>False</td>\n",
              "      <td>False</td>\n",
              "    </tr>\n",
              "    <tr>\n",
              "      <th>6362617</th>\n",
              "      <td>False</td>\n",
              "      <td>False</td>\n",
              "      <td>False</td>\n",
              "      <td>False</td>\n",
              "      <td>False</td>\n",
              "      <td>False</td>\n",
              "      <td>False</td>\n",
              "      <td>False</td>\n",
              "      <td>False</td>\n",
              "      <td>False</td>\n",
              "      <td>False</td>\n",
              "    </tr>\n",
              "    <tr>\n",
              "      <th>6362618</th>\n",
              "      <td>False</td>\n",
              "      <td>False</td>\n",
              "      <td>False</td>\n",
              "      <td>False</td>\n",
              "      <td>False</td>\n",
              "      <td>False</td>\n",
              "      <td>False</td>\n",
              "      <td>False</td>\n",
              "      <td>False</td>\n",
              "      <td>False</td>\n",
              "      <td>False</td>\n",
              "    </tr>\n",
              "    <tr>\n",
              "      <th>6362619</th>\n",
              "      <td>False</td>\n",
              "      <td>False</td>\n",
              "      <td>False</td>\n",
              "      <td>False</td>\n",
              "      <td>False</td>\n",
              "      <td>False</td>\n",
              "      <td>False</td>\n",
              "      <td>False</td>\n",
              "      <td>False</td>\n",
              "      <td>False</td>\n",
              "      <td>False</td>\n",
              "    </tr>\n",
              "  </tbody>\n",
              "</table>\n",
              "<p>6362620 rows × 11 columns</p>\n",
              "</div>"
            ],
            "text/plain": [
              "          step   type  amount  nameOrig  oldbalanceOrg  newbalanceOrig  \\\n",
              "0        False  False   False     False          False           False   \n",
              "1        False  False   False     False          False           False   \n",
              "2        False  False   False     False          False           False   \n",
              "3        False  False   False     False          False           False   \n",
              "4        False  False   False     False          False           False   \n",
              "...        ...    ...     ...       ...            ...             ...   \n",
              "6362615  False  False   False     False          False           False   \n",
              "6362616  False  False   False     False          False           False   \n",
              "6362617  False  False   False     False          False           False   \n",
              "6362618  False  False   False     False          False           False   \n",
              "6362619  False  False   False     False          False           False   \n",
              "\n",
              "         nameDest  oldbalanceDest  newbalanceDest  isFraud  isFlaggedFraud  \n",
              "0           False           False           False    False           False  \n",
              "1           False           False           False    False           False  \n",
              "2           False           False           False    False           False  \n",
              "3           False           False           False    False           False  \n",
              "4           False           False           False    False           False  \n",
              "...           ...             ...             ...      ...             ...  \n",
              "6362615     False           False           False    False           False  \n",
              "6362616     False           False           False    False           False  \n",
              "6362617     False           False           False    False           False  \n",
              "6362618     False           False           False    False           False  \n",
              "6362619     False           False           False    False           False  \n",
              "\n",
              "[6362620 rows x 11 columns]"
            ]
          },
          "metadata": {
            "tags": []
          },
          "execution_count": 14
        }
      ]
    },
    {
      "cell_type": "code",
      "metadata": {
        "colab": {
          "base_uri": "https://localhost:8080/",
          "height": 435
        },
        "id": "DaqDTkj89btp",
        "outputId": "dbeee0d6-f5e6-4d05-bc09-1b147e8f1fbc"
      },
      "source": [
        "# drop rows with at least 1 null value\r\n",
        "df.dropna(axis = 1) "
      ],
      "execution_count": 15,
      "outputs": [
        {
          "output_type": "execute_result",
          "data": {
            "text/html": [
              "<div>\n",
              "<style scoped>\n",
              "    .dataframe tbody tr th:only-of-type {\n",
              "        vertical-align: middle;\n",
              "    }\n",
              "\n",
              "    .dataframe tbody tr th {\n",
              "        vertical-align: top;\n",
              "    }\n",
              "\n",
              "    .dataframe thead th {\n",
              "        text-align: right;\n",
              "    }\n",
              "</style>\n",
              "<table border=\"1\" class=\"dataframe\">\n",
              "  <thead>\n",
              "    <tr style=\"text-align: right;\">\n",
              "      <th></th>\n",
              "      <th>step</th>\n",
              "      <th>type</th>\n",
              "      <th>amount</th>\n",
              "      <th>nameOrig</th>\n",
              "      <th>oldbalanceOrg</th>\n",
              "      <th>newbalanceOrig</th>\n",
              "      <th>nameDest</th>\n",
              "      <th>oldbalanceDest</th>\n",
              "      <th>newbalanceDest</th>\n",
              "      <th>isFraud</th>\n",
              "      <th>isFlaggedFraud</th>\n",
              "    </tr>\n",
              "  </thead>\n",
              "  <tbody>\n",
              "    <tr>\n",
              "      <th>0</th>\n",
              "      <td>1</td>\n",
              "      <td>PAYMENT</td>\n",
              "      <td>9839.64</td>\n",
              "      <td>C1231006815</td>\n",
              "      <td>170136.00</td>\n",
              "      <td>160296.36</td>\n",
              "      <td>M1979787155</td>\n",
              "      <td>0.00</td>\n",
              "      <td>0.00</td>\n",
              "      <td>0</td>\n",
              "      <td>0</td>\n",
              "    </tr>\n",
              "    <tr>\n",
              "      <th>1</th>\n",
              "      <td>1</td>\n",
              "      <td>PAYMENT</td>\n",
              "      <td>1864.28</td>\n",
              "      <td>C1666544295</td>\n",
              "      <td>21249.00</td>\n",
              "      <td>19384.72</td>\n",
              "      <td>M2044282225</td>\n",
              "      <td>0.00</td>\n",
              "      <td>0.00</td>\n",
              "      <td>0</td>\n",
              "      <td>0</td>\n",
              "    </tr>\n",
              "    <tr>\n",
              "      <th>2</th>\n",
              "      <td>1</td>\n",
              "      <td>TRANSFER</td>\n",
              "      <td>181.00</td>\n",
              "      <td>C1305486145</td>\n",
              "      <td>181.00</td>\n",
              "      <td>0.00</td>\n",
              "      <td>C553264065</td>\n",
              "      <td>0.00</td>\n",
              "      <td>0.00</td>\n",
              "      <td>1</td>\n",
              "      <td>0</td>\n",
              "    </tr>\n",
              "    <tr>\n",
              "      <th>3</th>\n",
              "      <td>1</td>\n",
              "      <td>CASH_OUT</td>\n",
              "      <td>181.00</td>\n",
              "      <td>C840083671</td>\n",
              "      <td>181.00</td>\n",
              "      <td>0.00</td>\n",
              "      <td>C38997010</td>\n",
              "      <td>21182.00</td>\n",
              "      <td>0.00</td>\n",
              "      <td>1</td>\n",
              "      <td>0</td>\n",
              "    </tr>\n",
              "    <tr>\n",
              "      <th>4</th>\n",
              "      <td>1</td>\n",
              "      <td>PAYMENT</td>\n",
              "      <td>11668.14</td>\n",
              "      <td>C2048537720</td>\n",
              "      <td>41554.00</td>\n",
              "      <td>29885.86</td>\n",
              "      <td>M1230701703</td>\n",
              "      <td>0.00</td>\n",
              "      <td>0.00</td>\n",
              "      <td>0</td>\n",
              "      <td>0</td>\n",
              "    </tr>\n",
              "    <tr>\n",
              "      <th>...</th>\n",
              "      <td>...</td>\n",
              "      <td>...</td>\n",
              "      <td>...</td>\n",
              "      <td>...</td>\n",
              "      <td>...</td>\n",
              "      <td>...</td>\n",
              "      <td>...</td>\n",
              "      <td>...</td>\n",
              "      <td>...</td>\n",
              "      <td>...</td>\n",
              "      <td>...</td>\n",
              "    </tr>\n",
              "    <tr>\n",
              "      <th>6362615</th>\n",
              "      <td>743</td>\n",
              "      <td>CASH_OUT</td>\n",
              "      <td>339682.13</td>\n",
              "      <td>C786484425</td>\n",
              "      <td>339682.13</td>\n",
              "      <td>0.00</td>\n",
              "      <td>C776919290</td>\n",
              "      <td>0.00</td>\n",
              "      <td>339682.13</td>\n",
              "      <td>1</td>\n",
              "      <td>0</td>\n",
              "    </tr>\n",
              "    <tr>\n",
              "      <th>6362616</th>\n",
              "      <td>743</td>\n",
              "      <td>TRANSFER</td>\n",
              "      <td>6311409.28</td>\n",
              "      <td>C1529008245</td>\n",
              "      <td>6311409.28</td>\n",
              "      <td>0.00</td>\n",
              "      <td>C1881841831</td>\n",
              "      <td>0.00</td>\n",
              "      <td>0.00</td>\n",
              "      <td>1</td>\n",
              "      <td>0</td>\n",
              "    </tr>\n",
              "    <tr>\n",
              "      <th>6362617</th>\n",
              "      <td>743</td>\n",
              "      <td>CASH_OUT</td>\n",
              "      <td>6311409.28</td>\n",
              "      <td>C1162922333</td>\n",
              "      <td>6311409.28</td>\n",
              "      <td>0.00</td>\n",
              "      <td>C1365125890</td>\n",
              "      <td>68488.84</td>\n",
              "      <td>6379898.11</td>\n",
              "      <td>1</td>\n",
              "      <td>0</td>\n",
              "    </tr>\n",
              "    <tr>\n",
              "      <th>6362618</th>\n",
              "      <td>743</td>\n",
              "      <td>TRANSFER</td>\n",
              "      <td>850002.52</td>\n",
              "      <td>C1685995037</td>\n",
              "      <td>850002.52</td>\n",
              "      <td>0.00</td>\n",
              "      <td>C2080388513</td>\n",
              "      <td>0.00</td>\n",
              "      <td>0.00</td>\n",
              "      <td>1</td>\n",
              "      <td>0</td>\n",
              "    </tr>\n",
              "    <tr>\n",
              "      <th>6362619</th>\n",
              "      <td>743</td>\n",
              "      <td>CASH_OUT</td>\n",
              "      <td>850002.52</td>\n",
              "      <td>C1280323807</td>\n",
              "      <td>850002.52</td>\n",
              "      <td>0.00</td>\n",
              "      <td>C873221189</td>\n",
              "      <td>6510099.11</td>\n",
              "      <td>7360101.63</td>\n",
              "      <td>1</td>\n",
              "      <td>0</td>\n",
              "    </tr>\n",
              "  </tbody>\n",
              "</table>\n",
              "<p>6362620 rows × 11 columns</p>\n",
              "</div>"
            ],
            "text/plain": [
              "         step      type      amount     nameOrig  oldbalanceOrg  \\\n",
              "0           1   PAYMENT     9839.64  C1231006815      170136.00   \n",
              "1           1   PAYMENT     1864.28  C1666544295       21249.00   \n",
              "2           1  TRANSFER      181.00  C1305486145         181.00   \n",
              "3           1  CASH_OUT      181.00   C840083671         181.00   \n",
              "4           1   PAYMENT    11668.14  C2048537720       41554.00   \n",
              "...       ...       ...         ...          ...            ...   \n",
              "6362615   743  CASH_OUT   339682.13   C786484425      339682.13   \n",
              "6362616   743  TRANSFER  6311409.28  C1529008245     6311409.28   \n",
              "6362617   743  CASH_OUT  6311409.28  C1162922333     6311409.28   \n",
              "6362618   743  TRANSFER   850002.52  C1685995037      850002.52   \n",
              "6362619   743  CASH_OUT   850002.52  C1280323807      850002.52   \n",
              "\n",
              "         newbalanceOrig     nameDest  oldbalanceDest  newbalanceDest  isFraud  \\\n",
              "0             160296.36  M1979787155            0.00            0.00        0   \n",
              "1              19384.72  M2044282225            0.00            0.00        0   \n",
              "2                  0.00   C553264065            0.00            0.00        1   \n",
              "3                  0.00    C38997010        21182.00            0.00        1   \n",
              "4              29885.86  M1230701703            0.00            0.00        0   \n",
              "...                 ...          ...             ...             ...      ...   \n",
              "6362615            0.00   C776919290            0.00       339682.13        1   \n",
              "6362616            0.00  C1881841831            0.00            0.00        1   \n",
              "6362617            0.00  C1365125890        68488.84      6379898.11        1   \n",
              "6362618            0.00  C2080388513            0.00            0.00        1   \n",
              "6362619            0.00   C873221189      6510099.11      7360101.63        1   \n",
              "\n",
              "         isFlaggedFraud  \n",
              "0                     0  \n",
              "1                     0  \n",
              "2                     0  \n",
              "3                     0  \n",
              "4                     0  \n",
              "...                 ...  \n",
              "6362615               0  \n",
              "6362616               0  \n",
              "6362617               0  \n",
              "6362618               0  \n",
              "6362619               0  \n",
              "\n",
              "[6362620 rows x 11 columns]"
            ]
          },
          "metadata": {
            "tags": []
          },
          "execution_count": 15
        }
      ]
    },
    {
      "cell_type": "markdown",
      "metadata": {
        "id": "0PS7BNCwDSMZ"
      },
      "source": [
        "From the data visualization, there is a significant difference in the instances of fraud vs not-fraud in the datasets. Such large differences in the categories I want to predict can cause the model to be overly trained on one type versus another resulting in a uselessmodel. The models need to be trained on datatsets that are equally representative of the categories I want to predict i.e. Fraud vs Non-Fraud,  which would allow for a higher accuracy in the model prediction. Therefore, I will use the number of instances of fraud as the number of my training data set. Afterwards, I will normalize the numerical values in the dataset to transform all features to the same scale, minimizing the influence of extremely large or small weights."
      ]
    },
    {
      "cell_type": "code",
      "metadata": {
        "colab": {
          "base_uri": "https://localhost:8080/"
        },
        "id": "7KMGcG6JGBW9",
        "outputId": "68a29370-ebe5-43dd-a726-432a0633d526"
      },
      "source": [
        "# Create a more equal training data set; less amount of data but more useful\r\n",
        "not_Fraud = df[df['isFraud'] == 0]\r\n",
        "Fraud = df[df['isFraud'] == 1]\r\n",
        "\r\n",
        "num = len(Fraud.index)\r\n",
        "\r\n",
        "print(\"Instances of no fraud: \", len(not_Fraud.index))\r\n",
        "print(\"Instances of fraud: \", len(Fraud.index))\r\n",
        "print(num)"
      ],
      "execution_count": 32,
      "outputs": [
        {
          "output_type": "stream",
          "text": [
            "Instances of no fraud:  6354407\n",
            "Instances of fraud:  8213\n",
            "8213\n"
          ],
          "name": "stdout"
        }
      ]
    },
    {
      "cell_type": "code",
      "metadata": {
        "colab": {
          "base_uri": "https://localhost:8080/"
        },
        "id": "ZSGSW8sxMXUd",
        "outputId": "8c1161f2-0d09-4f62-f1c1-32685477404e"
      },
      "source": [
        "not_Fraud = df.loc[df['isFraud'] == 0][:num] # get length of df the same as Fraud df\r\n",
        "eq_df = pd.concat([Fraud, not_Fraud]) # create new df\r\n",
        "eq_df = eq_df.sample(frac = 1, random_state = 42)\r\n",
        "not_Fraud = eq_df[eq_df['isFraud'] == 0]\r\n",
        "Fraud = eq_df[eq_df['isFraud'] == 1]\r\n",
        "\r\n",
        "n1 = len(not_Fraud.index)\r\n",
        "n2 = len(Fraud.index)\r\n",
        "\r\n",
        "print(n1,n2)"
      ],
      "execution_count": 33,
      "outputs": [
        {
          "output_type": "stream",
          "text": [
            "8213 8213\n"
          ],
          "name": "stdout"
        }
      ]
    },
    {
      "cell_type": "code",
      "metadata": {
        "id": "Xlto7SDYQXUK"
      },
      "source": [
        "from sklearn.preprocessing import MinMaxScaler\r\n",
        "\r\n",
        "scaler = MinMaxScaler()\r\n",
        "\r\n",
        "scaler.fit(eq_df['step'].values.reshape(-1, 1))\r\n",
        "eq_df['step'] = scaler.fit_transform(eq_df['step'].values.reshape(-1, 1))\r\n",
        "\r\n",
        "scaler.fit(eq_df['amount'].values.reshape(-1, 1))\r\n",
        "eq_df['amount'] = scaler.fit_transform(eq_df['amount'].values.reshape(-1, 1))\r\n",
        "\r\n",
        "scaler.fit(eq_df['oldbalanceOrg'].values.reshape(-1, 1))\r\n",
        "eq_df['oldbalanceOrg'] = scaler.fit_transform(eq_df['oldbalanceOrg'].values.reshape(-1, 1))\r\n",
        "\r\n",
        "scaler.fit(eq_df['newbalanceOrig'].values.reshape(-1, 1))\r\n",
        "eq_df['newbalanceOrig'] = scaler.fit_transform(eq_df['newbalanceOrig'].values.reshape(-1, 1))\r\n",
        "\r\n",
        "scaler.fit(eq_df['oldbalanceDest'].values.reshape(-1, 1))\r\n",
        "eq_df['oldbalanceDest'] = scaler.fit_transform(eq_df['oldbalanceDest'].values.reshape(-1, 1))\r\n",
        "\r\n",
        "scaler.fit(eq_df['newbalanceDest'].values.reshape(-1, 1))\r\n",
        "eq_df['newbalanceDest'] = scaler.fit_transform(eq_df['newbalanceDest'].values.reshape(-1, 1))"
      ],
      "execution_count": 34,
      "outputs": []
    },
    {
      "cell_type": "code",
      "metadata": {
        "id": "CAI72_fZcQp3",
        "colab": {
          "base_uri": "https://localhost:8080/"
        },
        "outputId": "83fa79fe-53ed-45c9-ba12-514baf797a06"
      },
      "source": [
        "eq_df.dtypes"
      ],
      "execution_count": 35,
      "outputs": [
        {
          "output_type": "execute_result",
          "data": {
            "text/plain": [
              "step              float64\n",
              "type               object\n",
              "amount            float64\n",
              "nameOrig           object\n",
              "oldbalanceOrg     float64\n",
              "newbalanceOrig    float64\n",
              "nameDest           object\n",
              "oldbalanceDest    float64\n",
              "newbalanceDest    float64\n",
              "isFraud             int64\n",
              "isFlaggedFraud      int64\n",
              "dtype: object"
            ]
          },
          "metadata": {
            "tags": []
          },
          "execution_count": 35
        }
      ]
    },
    {
      "cell_type": "markdown",
      "metadata": {
        "id": "_2MI-j4B1MAJ"
      },
      "source": [
        "Train, Test, and Validate"
      ]
    },
    {
      "cell_type": "code",
      "metadata": {
        "id": "Yfb8_plJSYM0"
      },
      "source": [
        "from sklearn.tree import DecisionTreeClassifier\r\n",
        "from sklearn.naive_bayes import GaussianNB\r\n",
        "\r\n",
        "from sklearn.model_selection import train_test_split\r\n",
        "from sklearn.metrics import accuracy_score\r\n",
        "\r\n",
        "training,test = train_test_split(eq_df, train_size = 0.7, test_size = 0.3, shuffle=True)\r\n",
        "training,valid = train_test_split(training, train_size = 0.7, test_size =0.3, shuffle=True) \r\n",
        "\r\n",
        "training_label = training.pop('isFraud')\r\n",
        "test_label = test.pop('isFraud')\r\n",
        "valid_label = valid.pop('isFraud')\r\n"
      ],
      "execution_count": 36,
      "outputs": []
    },
    {
      "cell_type": "code",
      "metadata": {
        "colab": {
          "base_uri": "https://localhost:8080/"
        },
        "id": "OIIk7FM5d7x4",
        "outputId": "cbc8bfa4-86ee-45d7-a1f2-8da6d1701a7e"
      },
      "source": [
        "training.columns"
      ],
      "execution_count": 21,
      "outputs": [
        {
          "output_type": "execute_result",
          "data": {
            "text/plain": [
              "Index(['step', 'type', 'amount', 'nameOrig', 'oldbalanceOrg', 'newbalanceOrig',\n",
              "       'nameDest', 'oldbalanceDest', 'newbalanceDest', 'isFlaggedFraud'],\n",
              "      dtype='object')"
            ]
          },
          "metadata": {
            "tags": []
          },
          "execution_count": 21
        }
      ]
    },
    {
      "cell_type": "code",
      "metadata": {
        "colab": {
          "base_uri": "https://localhost:8080/"
        },
        "id": "Dl5nmylRU_Pp",
        "outputId": "b970dc6e-a1ac-43cc-fe21-7caa37a0ee35"
      },
      "source": [
        "import pprint\r\n",
        "\r\n",
        "pp = pprint.PrettyPrinter(indent=4)\r\n",
        "\r\n",
        "dTree = DecisionTreeClassifier()\r\n",
        "nbayes = GaussianNB()\r\n",
        "\r\n",
        "#dummy_train = pd.get_dummies(training)\r\n",
        "#dummy_new = pd.get_dummies(test)\r\n",
        "#dummy_new.reindex(columns = training.columns, fill_value=0)\r\n",
        "\r\n",
        "training['label'] = 'train'\r\n",
        "test['label'] = 'test'\r\n",
        "valid['label'] = 'valid'\r\n",
        "\r\n",
        "concat_df = pd.concat([training, test, valid])\r\n",
        "\r\n",
        "features_df = pd.get_dummies(concat_df, columns=['step', 'type', 'amount', 'nameOrig', 'oldbalanceOrg', 'newbalanceOrig',\r\n",
        "       'nameDest', 'oldbalanceDest', 'newbalanceDest', 'isFlaggedFraud'], dummy_na=True)\r\n",
        "\r\n",
        "# Split your data\r\n",
        "train_df = features_df[features_df['label'] == 'train']\r\n",
        "test_df = features_df[features_df['label'] == 'test']\r\n",
        "valid_df =features_df[features_df['label'] == 'valid']\r\n",
        "\r\n",
        "# Drop your labels\r\n",
        "train_df = train_df.drop('label', axis=1)\r\n",
        "test_df = test_df.drop('label', axis=1)\r\n",
        "valid_df = valid_df.drop('label', axis=1)\r\n",
        "\r\n",
        "dTree.fit(train_df, training_label)\r\n",
        "nbayes.fit(train_df, training_label)\r\n",
        "\r\n",
        "dTree_predict = dTree.predict(test_df)\r\n",
        "nbayes_predict = nbayes.predict(test_df)\r\n",
        "\r\n",
        "accuracy = dict()\r\n",
        "accuracy['DecisionTree'] = accuracy_score(test_label, dTree_predict)\r\n",
        "accuracy['Naive_bayes'] = accuracy_score(test_label, nbayes_predict)\r\n",
        "\r\n",
        "pp.pprint(accuracy)"
      ],
      "execution_count": 37,
      "outputs": [
        {
          "output_type": "stream",
          "text": [
            "/usr/local/lib/python3.6/dist-packages/ipykernel_launcher.py:13: SettingWithCopyWarning: \n",
            "A value is trying to be set on a copy of a slice from a DataFrame.\n",
            "Try using .loc[row_indexer,col_indexer] = value instead\n",
            "\n",
            "See the caveats in the documentation: https://pandas.pydata.org/pandas-docs/stable/user_guide/indexing.html#returning-a-view-versus-a-copy\n",
            "  del sys.path[0]\n"
          ],
          "name": "stderr"
        },
        {
          "output_type": "stream",
          "text": [
            "{'DecisionTree': 0.9941152597402597, 'Naive_bayes': 0.984577922077922}\n"
          ],
          "name": "stdout"
        }
      ]
    },
    {
      "cell_type": "code",
      "metadata": {
        "colab": {
          "base_uri": "https://localhost:8080/"
        },
        "id": "0yXoNJNtaCJz",
        "outputId": "a7ecd3d4-f43b-4f18-b4c2-ce7bccd2b51f"
      },
      "source": [
        "dTree_predict = dTree.predict(valid_df)\r\n",
        "nbayes_predict = nbayes.predict(valid_df)\r\n",
        "\r\n",
        "accuracy['DecisionTree'] = accuracy_score(valid_label, dTree_predict)\r\n",
        "accuracy['Naive_bayes'] = accuracy_score(valid_label, nbayes_predict)\r\n",
        "\r\n",
        "pp.pprint(accuracy)"
      ],
      "execution_count": 38,
      "outputs": [
        {
          "output_type": "stream",
          "text": [
            "{'DecisionTree': 0.9933333333333333, 'Naive_bayes': 0.9857971014492753}\n"
          ],
          "name": "stdout"
        }
      ]
    },
    {
      "cell_type": "code",
      "metadata": {
        "colab": {
          "base_uri": "https://localhost:8080/",
          "height": 371
        },
        "id": "IADYwTlMqDF8",
        "outputId": "05fab8a3-1b90-48a2-887c-1cb32260b059"
      },
      "source": [
        "# plot results\r\n",
        "df2 = pd.DataFrame.from_dict(accuracy,orient='index')\r\n",
        "print(df2)\r\n",
        "ax = sns.scatterplot(data=df2, palette=\"Set2\")\r\n",
        "ax.legend_.remove()\r\n",
        "ax.set_title('Results of Decision Tree vs Naive Bayes')\r\n",
        "ax.set_xlabel('model')\r\n",
        "ax.set_ylabel('accuracy')"
      ],
      "execution_count": 64,
      "outputs": [
        {
          "output_type": "stream",
          "text": [
            "                     0\n",
            "DecisionTree  0.993333\n",
            "Naive_bayes   0.985797\n"
          ],
          "name": "stdout"
        },
        {
          "output_type": "execute_result",
          "data": {
            "text/plain": [
              "Text(0, 0.5, 'accuracy')"
            ]
          },
          "metadata": {
            "tags": []
          },
          "execution_count": 64
        },
        {
          "output_type": "display_data",
          "data": {
            "image/png": "[encoded data removed]",
            "text/plain": [
              "<Figure size 432x288 with 1 Axes>"
            ]
          },
          "metadata": {
            "tags": []
          }
        }
      ]
    }
  ]
}